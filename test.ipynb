{
 "cells": [
  {
   "cell_type": "code",
   "execution_count": 1,
   "id": "d2d67f74-37aa-4d91-8500-6383b9a1e91e",
   "metadata": {},
   "outputs": [],
   "source": [
    "import os\n",
    "import json\n",
    "import base64\n",
    "import io\n",
    "import time\n",
    "from PIL import Image\n",
    "from openai import OpenAI"
   ]
  },
  {
   "cell_type": "code",
   "execution_count": 1,
   "id": "21b84aae-833d-4e16-9d13-ea42947070ae",
   "metadata": {},
   "outputs": [
    {
     "data": {
      "text/plain": [
       "'5e67649ca7508d280ac840f20dc2982a2ad0443a64420488'"
      ]
     },
     "execution_count": 1,
     "metadata": {},
     "output_type": "execute_result"
    }
   ],
   "source": [
    "import secrets\n",
    "secrets.token_hex(24)"
   ]
  },
  {
   "cell_type": "code",
   "execution_count": 2,
   "id": "781f739c-237e-4f17-b079-11181ca124e3",
   "metadata": {},
   "outputs": [],
   "source": [
    "# ==============================================================================\n",
    "#  !! 关键步骤 1: 配置你的大模型 API !!\n",
    "#  请将这部分从 a_ocr_config.py 复制过来，并确保填写正确。\n",
    "# ==============================================================================\n",
    "LLM_CONFIG = {\n",
    "    # 示例: OpenAI 官方 (GPT-4o)\n",
    "    \"API_KEY\": \"sk-udzsogssqinpcokdsgxehmopfobqycpwflgtzarmdhqtcuio\",  # <--- 在这里填入你的API密钥\n",
    "    \"BASE_URL\": \"https://api.siliconflow.cn/v1\", # <--- 如果使用官方API，请用这个\n",
    "    \"MODEL_NAME\": \"Qwen/Qwen2.5-VL-72B-Instruct\" #  \"Qwen/QVQ-72B-Preview\",\n",
    "}\n",
    "\n",
    "# ==============================================================================\n",
    "#  !! 关键步骤 2: 设计你的 JSON 提取指令 (Prompt) !!\n",
    "#  将这部分从 a_ocr_config.py 复制过来。\n",
    "# ==============================================================================\n",
    "JSON_PROMPT = \"\"\"\n",
    "你是一个顶级的视觉识别能力（OCR）专家。\n",
    "你的任务是严格按照用户提供的图片，提取所有关键数据指标，并以一个纯净的、不含任何额外解释的JSON格式返回。\n",
    "\n",
    "请根据图片内容，填充以下JSON结构。\n",
    "- 对于图片中存在的指标，请精确提取其数值。\n",
    "- 对于数值，只返回数字（整数或浮点数），不要包含任何单位如 \"¥\"、\"%\" 或 \"分秒\"。对于百分比，请直接返回数字，例如 \"12.5%\" 应返回 12.5。对于时间 \"1分6秒\"，请计算总秒数后返回。\n",
    "- 对于图片中不存在或无法识别的指标，请使用 `null` 作为其值。\n",
    "- 最终的输出必须是一个能被直接解析的JSON对象，不要在JSON代码块前后添加任何文字、注释或markdown标记(如```json ```)。\n",
    "\n",
    "这是你必须严格遵守的JSON结构：\n",
    "{\n",
    "  \"live_start_time\": \"HH:MM:SS 或 HH:MM 格式的字符串\",\n",
    "  \"gmv\": \"浮点数\",\n",
    "  \"gpm\": \"浮点数\",\n",
    "  \"order_count\": \"整数\",\n",
    "  \"buyer_count\": \"整数\",\n",
    "  \"vv\": \"整数\",\n",
    "  \"avg_online_users\": \"整数\",\n",
    "  \"avg_watch_time_seconds\": \"整数 (总秒数)\",\n",
    "  \"new_followers\": \"整数\",\n",
    "  \"click_to_order_ratio\": \"浮点数 (例如 12.5)\",\n",
    "  \"view_to_order_ratio\": \"浮点数\",\n",
    "  \"expose_to_view_ratio\": \"浮点数\",\n",
    "  \"view_to_interact_ratio\": \"浮点数\",\n",
    "  \"follower_order_ratio\": \"浮点数\"\n",
    "}\n",
    "\"\"\"\n",
    "\n",
    "# --- 以下是需要测试的核心函数，直接从 app.py 复制过来 ---\n",
    "\n",
    "def image_to_base64(image: Image.Image, format=\"PNG\") -> str:\n",
    "    \"\"\"\n",
    "    将Pillow图片对象转换为Base64字符串。\n",
    "    【增强版】: 在保存前，强制将图片转换为RGB模式，以确保最大兼容性。\n",
    "    \"\"\"\n",
    "    buffered = io.BytesIO()\n",
    "    \n",
    "    # --- 核心修改 ---\n",
    "    # 无论原始图片是什么模式 (L, RGBA, CMYK等), \n",
    "    # 都统一转换为'RGB'模式。这可以解决绝大多数格式兼容性问题。\n",
    "    if image.mode != 'RGB':\n",
    "        image = image.convert('RGB')\n",
    "    \n",
    "    # 现在图片保证是'RGB'模式，可以安全地保存为JPEG或PNG\n",
    "    save_format = format.upper()\n",
    "    if save_format == 'JPEG':\n",
    "        image.save(buffered, format=\"JPEG\")\n",
    "        mime_type = \"image/jpeg\"\n",
    "    else: # 默认或指定PNG\n",
    "        image.save(buffered, format=\"PNG\")\n",
    "        mime_type = \"image/png\"\n",
    "\n",
    "    img_str = base64.b64encode(buffered.getvalue()).decode(\"utf-8\")\n",
    "    return f\"data:{mime_type};base64,{img_str}\""
   ]
  },
  {
   "cell_type": "code",
   "execution_count": 3,
   "id": "b76e988f-8c7e-4439-8131-ac7abc6df57a",
   "metadata": {},
   "outputs": [
    {
     "name": "stdin",
     "output_type": "stream",
     "text": [
      "请输入要测试的图片文件路径 (例如: 1.jpg 或 D:\\images\\test.png):  1.png\n"
     ]
    }
   ],
   "source": [
    "# --- 主测试逻辑 ---\n",
    "# 1. 提示用户输入要测试的图片路径\n",
    "image_path = input(\"请输入要测试的图片文件路径 (例如: 1.jpg 或 D:\\\\images\\\\test.png): \")"
   ]
  },
  {
   "cell_type": "code",
   "execution_count": null,
   "id": "fda5e388-7f41-482f-b399-c5b734d01253",
   "metadata": {},
   "outputs": [],
   "source": [
    "api_client = OpenAI(api_key=LLM_CONFIG[\"API_KEY\"], base_url=LLM_CONFIG[\"BASE_URL\"])\n",
    "test_image = Image.open(image_path)\n",
    "base64_image = image_to_base64(test_image)\n",
    "\n",
    "response = api_client.chat.completions.create(\n",
    "    model=LLM_CONFIG[\"MODEL_NAME\"],\n",
    "    messages=[\n",
    "        {\n",
    "            \"role\": \"user\",\n",
    "            \"content\": [\n",
    "                {\"type\": \"text\", \"text\": JSON_PROMPT},\n",
    "                {\"type\": \"image_url\",\"image_url\": {\"url\": base64_image},\n",
    "                }\n",
    "            ],\n",
    "        }\n",
    "    ],\n",
    "    max_tokens=2048,\n",
    "    temperature=0.0,\n",
    "    #stream=True\n",
    ")\n",
    "\n",
    "json_string = response.choices[0].message.content\n",
    "json_string"
   ]
  },
  {
   "cell_type": "code",
   "execution_count": null,
   "id": "24a33726-0fbb-49c7-b171-65ebca51d32d",
   "metadata": {},
   "outputs": [],
   "source": []
  }
 ],
 "metadata": {
  "kernelspec": {
   "display_name": "Python 3 (ipykernel)",
   "language": "python",
   "name": "python3"
  },
  "language_info": {
   "codemirror_mode": {
    "name": "ipython",
    "version": 3
   },
   "file_extension": ".py",
   "mimetype": "text/x-python",
   "name": "python",
   "nbconvert_exporter": "python",
   "pygments_lexer": "ipython3",
   "version": "3.12.7"
  }
 },
 "nbformat": 4,
 "nbformat_minor": 5
}
